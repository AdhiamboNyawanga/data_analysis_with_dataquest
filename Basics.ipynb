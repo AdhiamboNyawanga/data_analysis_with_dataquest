{
 "cells": [
  {
   "cell_type": "markdown",
   "metadata": {
    "collapsed": true
   },
   "source": [
    "EXPLORING HACKER'S NEWS POSTS"
   ]
  },
  {
   "cell_type": "markdown",
   "metadata": {},
   "source": [
    "In this project, we compare two types of posts to determine:\n",
    "1. The post that receives more comments on average.\n",
    "2. If posts created at a certain time receive more comments on average."
   ]
  },
  {
   "cell_type": "markdown",
   "metadata": {},
   "source": [
    "The first step of this project is to read the hacker_news.csv file in as a list of lists alias hn and display it's the first five rows."
   ]
  },
  {
   "cell_type": "code",
   "execution_count": 1,
   "metadata": {},
   "outputs": [
    {
     "name": "stdout",
     "output_type": "stream",
     "text": [
      "[['id', 'title', 'url', 'num_points', 'num_comments', 'author', 'created_at'], ['12224879', 'Interactive Dynamic Video', 'http://www.interactivedynamicvideo.com/', '386', '52', 'ne0phyte', '8/4/2016 11:52'], ['10975351', 'How to Use Open Source and Shut the Fuck Up at the Same Time', 'http://hueniverse.com/2016/01/26/how-to-use-open-source-and-shut-the-fuck-up-at-the-same-time/', '39', '10', 'josep2', '1/26/2016 19:30'], ['11964716', \"Florida DJs May Face Felony for April Fools' Water Joke\", 'http://www.thewire.com/entertainment/2013/04/florida-djs-april-fools-water-joke/63798/', '2', '1', 'vezycash', '6/23/2016 22:20'], ['11919867', 'Technology ventures: From Idea to Enterprise', 'https://www.amazon.com/Technology-Ventures-Enterprise-Thomas-Byers/dp/0073523429', '3', '1', 'hswarna', '6/17/2016 0:01']]\n"
     ]
    }
   ],
   "source": [
    "from csv import reader\n",
    "opened_file = open(\"hacker_news.csv\")\n",
    "read_file = reader(opened_file)\n",
    "hn = list(read_file)\n",
    "print(hn[:5])"
   ]
  },
  {
   "cell_type": "markdown",
   "metadata": {},
   "source": [
    "Removing Headers from a List of Lists\n",
    "In this step, we extract the first row and assign it to the variable headers, remove the first row from hn, display headers and display the first five rows of hn to verify that you removed the header row properly"
   ]
  },
  {
   "cell_type": "code",
   "execution_count": 2,
   "metadata": {},
   "outputs": [
    {
     "name": "stdout",
     "output_type": "stream",
     "text": [
      "['id', 'title', 'url', 'num_points', 'num_comments', 'author', 'created_at']\n",
      "[['12224879', 'Interactive Dynamic Video', 'http://www.interactivedynamicvideo.com/', '386', '52', 'ne0phyte', '8/4/2016 11:52'], ['10975351', 'How to Use Open Source and Shut the Fuck Up at the Same Time', 'http://hueniverse.com/2016/01/26/how-to-use-open-source-and-shut-the-fuck-up-at-the-same-time/', '39', '10', 'josep2', '1/26/2016 19:30'], ['11964716', \"Florida DJs May Face Felony for April Fools' Water Joke\", 'http://www.thewire.com/entertainment/2013/04/florida-djs-april-fools-water-joke/63798/', '2', '1', 'vezycash', '6/23/2016 22:20'], ['11919867', 'Technology ventures: From Idea to Enterprise', 'https://www.amazon.com/Technology-Ventures-Enterprise-Thomas-Byers/dp/0073523429', '3', '1', 'hswarna', '6/17/2016 0:01'], ['10301696', 'Note by Note: The Making of Steinway L1037 (2007)', 'http://www.nytimes.com/2007/11/07/movies/07stein.html?_r=0', '8', '2', 'walterbell', '9/30/2015 4:12']]\n"
     ]
    }
   ],
   "source": [
    "headers = hn[0]\n",
    "hn = hn[1:]\n",
    "print(headers)\n",
    "print(hn[:5])"
   ]
  },
  {
   "cell_type": "markdown",
   "metadata": {},
   "source": [
    "Extracting Ask HN and Show HN Posts:\n",
    "Create three empty lists called ask_posts, show_posts, and other_posts\n",
    "Loop through each row in hn.\n",
    "Assign the title in each row to a variable named title.\n",
    "Because the title column is the second column, you'll need to get the element at index 1 in each row.\n",
    "Implement the following steps:\n",
    "If the lowercase version of title starts with ask hn, append the row to ask_posts.\n",
    "Else, if the lowercase version of title starts with show hn, append the row to show_posts.\n",
    "Else append to other_posts.\n",
    "Check the number of posts in ask_posts, show_posts, and other_posts."
   ]
  },
  {
   "cell_type": "code",
   "execution_count": 3,
   "metadata": {},
   "outputs": [
    {
     "name": "stdout",
     "output_type": "stream",
     "text": [
      "1744\n",
      "1162\n",
      "17194\n"
     ]
    }
   ],
   "source": [
    "ask_posts =[]\n",
    "show_posts =[]\n",
    "other_posts =[]\n",
    "for row in hn:\n",
    "    title = row[1]\n",
    "    title = title.lower()\n",
    "    if title.startswith(\"ask hn\"):\n",
    "        ask_posts.append(row)\n",
    "    elif title.startswith(\"show hn\"):\n",
    "        show_posts.append(row)\n",
    "    else:\n",
    "        other_posts.append(row)\n",
    "print(len(ask_posts))\n",
    "print(len(show_posts))\n",
    "print(len(other_posts))\n"
   ]
  },
  {
   "cell_type": "markdown",
   "metadata": {},
   "source": [
    "Calculating the Average Number of Comments for Ask HN and Show HN Posts:\n",
    "Find the total number of comments in ask posts, and assign it to total_ask_comments.\n",
    "Set total_ask_comments to 0.\n",
    "Use a for loop to iterate over the ask posts.\n",
    "Because the num_comments column is the fifth column in ask_posts, you'll need to get the element at index 4 in each row.\n",
    "You'll also need to convert the value to an integer so that we can calculate the sum of all the comments.\n",
    "Add this value to total_ask_comments.\n",
    "Compute the average number of comments on ask posts, and assign it to avg_ask_comments.\n",
    "Print avg_ask_comments.\n",
    "Find the total number of comments in show posts, and assign it to total_show_comments.\n",
    "Set total_show_comments to 0.\n",
    "Use a for loop to iterate over the show posts.\n",
    "Because the num_comments column is the fifth column in show_posts, you'll need to get the element at index 4 in each row.\n",
    "You'll also need to convert the value to an integer so that we can calculate the sum of all the comments.\n",
    "Add this value to total_show_comments.\n",
    "Compute the average number of comments on show posts, and assign it to avg_show_comments.\n",
    "Print avg_show_comments."
   ]
  },
  {
   "cell_type": "code",
   "execution_count": 4,
   "metadata": {},
   "outputs": [
    {
     "name": "stdout",
     "output_type": "stream",
     "text": [
      "21.0697074010327\n",
      "10.31669535283993\n"
     ]
    }
   ],
   "source": [
    "total_ask_comments = 0\n",
    "for row in ask_posts:\n",
    "    comments = row[4]\n",
    "    comments = int(str(comments))\n",
    "    total_ask_comments += comments\n",
    "    avg_ask_comments = total_ask_comments/len(show_posts)\n",
    "print(avg_ask_comments)\n",
    "\n",
    "total_show_comments = 0\n",
    "for row in show_posts:\n",
    "    comments = row[4]\n",
    "    comments = int(comments)\n",
    "    total_show_comments = total_show_comments+ comments\n",
    "    avg_show_comments = total_show_comments/len(show_posts)\n",
    "print(avg_show_comments)\n",
    "    "
   ]
  },
  {
   "cell_type": "markdown",
   "metadata": {},
   "source": [
    "From the findings above, ask posts receive more comments on average than show posts."
   ]
  },
  {
   "cell_type": "markdown",
   "metadata": {},
   "source": [
    "Finding the Number of Ask Posts and Comments by Hour Created.\n",
    "Import the datetime module as dt.\n",
    "Create an empty list, and assign it to result_list. This will be a list of lists.\n",
    "Iterate over ask_posts, and append to result_list a list with two elements:\n",
    "The first element should be the column created_at.\n",
    "Because the created_at column is the seventh column in ask_posts, you'll need to get the element at index 6 in each row.\n",
    "The second element should be the number of comments of the post.\n",
    "You'll also need to convert the value to an integer.\n",
    "Create two empty dictionaries called counts_by_hour and comments_by_hour.\n",
    "Loop through each row of result_list.\n",
    "Extract the hour from the date, which is the first element of the row.\n",
    "Use the datetime.strptime() method to parse the date and create a datetime object.\n",
    "Use the string we want to parse as the first argument and a string that specifies the format as the second argument.\n",
    "Use the datetime.strftime() method to select just the hour from the datetime object.\n",
    "If the hour isn't a key in counts_by_hour:\n",
    "Create the key in counts_by_hour, and set it equal to 1.\n",
    "Create the key in comments_by_hour, and set it equal to the comment number.\n",
    "If the hour is already a key in counts_by_hour:\n",
    "Increment the value in counts_by_hour by 1.\n",
    "Increment the value in comments_by_hour by the comment number."
   ]
  },
  {
   "cell_type": "code",
   "execution_count": 28,
   "metadata": {},
   "outputs": [
    {
     "name": "stdout",
     "output_type": "stream",
     "text": [
      "<class 'int'>\n",
      "<class 'int'>\n",
      "<class 'int'>\n"
     ]
    }
   ],
   "source": [
    "import datetime as dt\n",
    "result_list = []\n",
    "for row in ask_posts:\n",
    "    create_time = row[6]\n",
    "    comment = int(row[4])\n",
    "    for i in range(2):\n",
    "        result_list.extend([create_time, comment])\n",
    "\n",
    "counts_by_hour = {}\n",
    "comments_by_hour = {}\n",
    "#dates =[]\n",
    "for row in result_list:\n",
    "    index = result_list.index(row)\n",
    "    if index==0 or index%2 ==0:\n",
    "        date = row\n",
    "    else:\n",
    "        comment = row\n",
    "        comment = int(str(comment))\n",
    "\n",
    "    #dates.append(date)\n",
    "    date_dt = dt.datetime.strptime(date, \"%m/%d/%Y %H:%M\") # making the date column to be a datetime object\n",
    "    hour = date_dt.strftime(\"%H\") #select just the hour from the datetime object.\n",
    "    if hour not in counts_by_hour:\n",
    "        counts_by_hour[hour] = 1\n",
    "        comments_by_hour[hour] = comment\n",
    "    else:\n",
    "        counts_by_hour[hour] += 1\n",
    "        comments_by_hour[hour] += comment\n",
    "\n",
    "print(type(comments_by_hour[hour]))\n",
    "print(type(counts_by_hour[hour]))\n",
    "print(type(comment))\n",
    "    "
   ]
  },
  {
   "cell_type": "code",
   "execution_count": null,
   "metadata": {},
   "outputs": [],
   "source": [
    "Create a list that equals avg_by_hour with swapped columns.\n",
    "Create an empty list and assign it to swap_avg_by_hour.\n",
    "Iterate over the rows of avg_by_hour, and append to swap_avg_by_hour a list whose first element is the second element of the row, and whose second element is the first element of the row."
   ]
  },
  {
   "cell_type": "code",
   "execution_count": 34,
   "metadata": {
    "scrolled": true
   },
   "outputs": [
    {
     "name": "stdout",
     "output_type": "stream",
     "text": [
      "The average number of comments per post by hour is:\n"
     ]
    },
    {
     "data": {
      "text/plain": [
       "[['09', 8.172222222222222],\n",
       " ['13', 14.114705882352942],\n",
       " ['10', 12.402542372881356],\n",
       " ['14', 13.815420560747663],\n",
       " ['16', 15.789351851851851],\n",
       " ['23', 9.4375],\n",
       " ['12', 10.465753424657533],\n",
       " ['17', 14.5575],\n",
       " ['15', 31.43103448275862],\n",
       " ['21', 14.11697247706422],\n",
       " ['20', 18.5625],\n",
       " ['02', 21.448275862068964],\n",
       " ['18', 13.522935779816514],\n",
       " ['03', 10.935185185185185],\n",
       " ['05', 14.222826086956522],\n",
       " ['19', 12.3],\n",
       " ['01', 9.995833333333334],\n",
       " ['22', 11.507042253521126],\n",
       " ['08', 9.40625],\n",
       " ['04', 9.26595744680851],\n",
       " ['00', 7.972727272727273],\n",
       " ['06', 9.727272727272727],\n",
       " ['07', 9.713235294117647],\n",
       " ['11', 11.254310344827585]]"
      ]
     },
     "execution_count": 34,
     "metadata": {},
     "output_type": "execute_result"
    }
   ],
   "source": [
    "avg_by_hour = [] # a list that will contain the hour and average comments per post in that hour\n",
    "\n",
    "for hour in comments_by_hour:\n",
    "    average = (comments_by_hour[hour]) / (counts_by_hour[hour])\n",
    "    avg_by_hour.append([hour, average])\n",
    "    \n",
    "print(\"The average number of comments per post by hour is:\")\n",
    "avg_by_hour"
   ]
  },
  {
   "cell_type": "code",
   "execution_count": 38,
   "metadata": {},
   "outputs": [
    {
     "data": {
      "text/plain": [
       "[[8.172222222222222, '09'],\n",
       " [14.114705882352942, '13'],\n",
       " [12.402542372881356, '10'],\n",
       " [13.815420560747663, '14'],\n",
       " [15.789351851851851, '16'],\n",
       " [9.4375, '23'],\n",
       " [10.465753424657533, '12'],\n",
       " [14.5575, '17'],\n",
       " [31.43103448275862, '15'],\n",
       " [14.11697247706422, '21'],\n",
       " [18.5625, '20'],\n",
       " [21.448275862068964, '02'],\n",
       " [13.522935779816514, '18'],\n",
       " [10.935185185185185, '03'],\n",
       " [14.222826086956522, '05'],\n",
       " [12.3, '19'],\n",
       " [9.995833333333334, '01'],\n",
       " [11.507042253521126, '22'],\n",
       " [9.40625, '08'],\n",
       " [9.26595744680851, '04'],\n",
       " [7.972727272727273, '00'],\n",
       " [9.727272727272727, '06'],\n",
       " [9.713235294117647, '07'],\n",
       " [11.254310344827585, '11']]"
      ]
     },
     "execution_count": 38,
     "metadata": {},
     "output_type": "execute_result"
    }
   ],
   "source": [
    "swap_avg_by_hour = []\n",
    "for row in avg_by_hour:\n",
    "    swap_avg_by_hour.append([row[1], row[0]])\n",
    "swap_avg_by_hour"
   ]
  },
  {
   "cell_type": "markdown",
   "metadata": {},
   "source": [
    "Use the sorted() function to sort swap_avg_by_hour in descending order. Since the first column of this list is the average number of comments, sorting the list will sort by the average number of comments.\n",
    "Set the reverse argument to True, so that the highest value in the first column appears first in the list.\n",
    "Assign the result to sorted_swap."
   ]
  },
  {
   "cell_type": "code",
   "execution_count": 37,
   "metadata": {},
   "outputs": [
    {
     "data": {
      "text/plain": [
       "[[31.43103448275862, '15'],\n",
       " [21.448275862068964, '02'],\n",
       " [18.5625, '20'],\n",
       " [15.789351851851851, '16'],\n",
       " [14.5575, '17'],\n",
       " [14.222826086956522, '05'],\n",
       " [14.11697247706422, '21'],\n",
       " [14.114705882352942, '13'],\n",
       " [13.815420560747663, '14'],\n",
       " [13.522935779816514, '18'],\n",
       " [12.402542372881356, '10'],\n",
       " [12.3, '19'],\n",
       " [11.507042253521126, '22'],\n",
       " [11.254310344827585, '11'],\n",
       " [10.935185185185185, '03'],\n",
       " [10.465753424657533, '12'],\n",
       " [9.995833333333334, '01'],\n",
       " [9.727272727272727, '06'],\n",
       " [9.713235294117647, '07'],\n",
       " [9.4375, '23'],\n",
       " [9.40625, '08'],\n",
       " [9.26595744680851, '04'],\n",
       " [8.172222222222222, '09'],\n",
       " [7.972727272727273, '00']]"
      ]
     },
     "execution_count": 37,
     "metadata": {},
     "output_type": "execute_result"
    }
   ],
   "source": [
    "sorted_swap = sorted(swap_avg_by_hour, reverse = True) \n",
    "sorted_swap"
   ]
  },
  {
   "cell_type": "markdown",
   "metadata": {},
   "source": [
    "Print the string \"Top 5 Hours for Ask Posts Comments\".\n",
    "Loop through each average and each hour (in this order) in the first five lists of sorted_swap.\n",
    "Use the str.format() method to print the hour and average in the following format: 15:00: 38.59 average comments per post.\n",
    "To format the hours, use the datetime.strptime() constructor to return a datetime object, and then use the strftime() method to specify the format of the time.\n",
    "To format the average, you can use {:.2f} to indicate only two decimal places."
   ]
  },
  {
   "cell_type": "code",
   "execution_count": 43,
   "metadata": {
    "scrolled": true
   },
   "outputs": [
    {
     "name": "stdout",
     "output_type": "stream",
     "text": [
      "Top 5 Hours for Ask Posts Comments\n",
      "15:01: 31.43 average comments per post.\n",
      "02:01: 21.45 average comments per post.\n",
      "20:01: 18.56 average comments per post.\n",
      "16:01: 15.79 average comments per post.\n",
      "17:01: 14.56 average comments per post.\n"
     ]
    }
   ],
   "source": [
    "print(\"Top 5 Hours for Ask Posts Comments\")\n",
    "\n",
    "for row in sorted_swap[:5]:\n",
    "    avg_comment = row[0]\n",
    "    hour = row[1]\n",
    "    hour_dt = dt.datetime.strptime(hour,'%H')\n",
    "    hour_final = hour_dt.strftime('%H:%m')\n",
    "    print('{}: {:.2f} average comments per post.'.format(hour_final, avg_comment))"
   ]
  },
  {
   "cell_type": "markdown",
   "metadata": {},
   "source": [
    "From the annalysis above, one should create a post at 1500 hours to have higher chance of receiving comments."
   ]
  }
 ],
 "metadata": {
  "kernelspec": {
   "display_name": "Python 3.10.4 64-bit",
   "language": "python",
   "name": "python3"
  },
  "language_info": {
   "codemirror_mode": {
    "name": "ipython",
    "version": 3
   },
   "file_extension": ".py",
   "mimetype": "text/x-python",
   "name": "python",
   "nbconvert_exporter": "python",
   "pygments_lexer": "ipython3",
   "version": "3.10.4"
  },
  "vscode": {
   "interpreter": {
    "hash": "a42ccb73e7d9bfdf27e036f1d2b8b681e55fc0743cc5586bc2474d4a60f4b886"
   }
  }
 },
 "nbformat": 4,
 "nbformat_minor": 2
}
